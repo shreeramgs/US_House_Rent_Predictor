{
 "cells": [
  {
   "cell_type": "code",
   "execution_count": 105,
   "metadata": {},
   "outputs": [],
   "source": [
    "import pandas as pd\n",
    "from sklearn.linear_model import LinearRegression\n",
    "from sklearn.ensemble import GradientBoostingRegressor\n",
    "from sklearn.model_selection import cross_val_score\n",
    "from sklearn import tree\n",
    "from sklearn.model_selection import cross_validate\n",
    "import numpy as np\n",
    "import pickle\n",
    "import sqlite3"
   ]
  },
  {
   "cell_type": "code",
   "execution_count": 4,
   "metadata": {},
   "outputs": [],
   "source": [
    "def create_connection(db_file, delete_db=False):\n",
    "    import os\n",
    "    if delete_db and os.path.exists(db_file):\n",
    "        os.remove(db_file)\n",
    "\n",
    "    conn = None\n",
    "    try:\n",
    "        conn = sqlite3.connect(db_file)\n",
    "        conn.execute(\"PRAGMA foreign_keys = 1\")\n",
    "    except Error as e:\n",
    "        print(e)\n",
    "\n",
    "    return conn\n",
    "\n",
    "conn = create_connection('database/USRent.db')\n",
    "sql_statement = \"\"\"SELECT * FROM HousingList \n",
    "                   INNER JOIN Location ON HousingList.location_id = Location.location_id\n",
    "                   INNER JOIN Parking ON HousingList.parking_id = Parking.parking_id\n",
    "                   INNER JOIN Laundry ON HousingList.laundry_id = Laundry.laundry_id\n",
    "                   INNER JOIN HousingType ON HousingList.housing_type_id = HousingType.housing_type_id;\"\"\"\n",
    "data = pd.read_sql_query(sql_statement, conn)"
   ]
  },
  {
   "cell_type": "code",
   "execution_count": 159,
   "metadata": {},
   "outputs": [],
   "source": [
    "df = data.copy(deep=True)"
   ]
  },
  {
   "cell_type": "markdown",
   "metadata": {},
   "source": [
    "Remove columns that are not necessary for regression models"
   ]
  },
  {
   "cell_type": "code",
   "execution_count": 160,
   "metadata": {},
   "outputs": [],
   "source": [
    "df.drop([\"listing_id\",\"location_id\",\"region\",\"housing_type_id\",\"parking_id\",\"laundry_id\"], axis=1, inplace=True)"
   ]
  },
  {
   "cell_type": "markdown",
   "metadata": {},
   "source": [
    "The price column is highly skewed on the right as seen in the eda analysis which would result in higher error values in regression. So we are limiting the prices between between 120 and 5000 USD and make sure the values are not zero.  "
   ]
  },
  {
   "cell_type": "code",
   "execution_count": 161,
   "metadata": {},
   "outputs": [],
   "source": [
    "df=df[(df[\"price\"] > 100) & (df[\"price\"] < 5000)]\n",
    "df=df[df[\"sqfeet\"]>=120]"
   ]
  },
  {
   "cell_type": "markdown",
   "metadata": {},
   "source": [
    "Since there are few categorical variables, we must encode them for the linear models. "
   ]
  },
  {
   "cell_type": "code",
   "execution_count": 147,
   "metadata": {},
   "outputs": [
    {
     "data": {
      "text/html": [
       "<div>\n",
       "<style scoped>\n",
       "    .dataframe tbody tr th:only-of-type {\n",
       "        vertical-align: middle;\n",
       "    }\n",
       "\n",
       "    .dataframe tbody tr th {\n",
       "        vertical-align: top;\n",
       "    }\n",
       "\n",
       "    .dataframe thead th {\n",
       "        text-align: right;\n",
       "    }\n",
       "</style>\n",
       "<table border=\"1\" class=\"dataframe\">\n",
       "  <thead>\n",
       "    <tr style=\"text-align: right;\">\n",
       "      <th></th>\n",
       "      <th>price</th>\n",
       "      <th>sqfeet</th>\n",
       "      <th>beds</th>\n",
       "      <th>baths</th>\n",
       "      <th>cats_allowed</th>\n",
       "      <th>dogs_allowed</th>\n",
       "      <th>smoking_allowed</th>\n",
       "      <th>wheelchair_access</th>\n",
       "      <th>electric_vehicle_charge</th>\n",
       "      <th>comes_furnished</th>\n",
       "      <th>...</th>\n",
       "      <th>housing_type_condo</th>\n",
       "      <th>housing_type_cottage/cabin</th>\n",
       "      <th>housing_type_duplex</th>\n",
       "      <th>housing_type_flat</th>\n",
       "      <th>housing_type_house</th>\n",
       "      <th>housing_type_in-law</th>\n",
       "      <th>housing_type_land</th>\n",
       "      <th>housing_type_loft</th>\n",
       "      <th>housing_type_manufactured</th>\n",
       "      <th>housing_type_townhouse</th>\n",
       "    </tr>\n",
       "  </thead>\n",
       "  <tbody>\n",
       "    <tr>\n",
       "      <th>0</th>\n",
       "      <td>799</td>\n",
       "      <td>954</td>\n",
       "      <td>2</td>\n",
       "      <td>2.0</td>\n",
       "      <td>1</td>\n",
       "      <td>1</td>\n",
       "      <td>1</td>\n",
       "      <td>0</td>\n",
       "      <td>0</td>\n",
       "      <td>0</td>\n",
       "      <td>...</td>\n",
       "      <td>0</td>\n",
       "      <td>0</td>\n",
       "      <td>0</td>\n",
       "      <td>0</td>\n",
       "      <td>0</td>\n",
       "      <td>0</td>\n",
       "      <td>0</td>\n",
       "      <td>0</td>\n",
       "      <td>0</td>\n",
       "      <td>0</td>\n",
       "    </tr>\n",
       "    <tr>\n",
       "      <th>1</th>\n",
       "      <td>1005</td>\n",
       "      <td>1117</td>\n",
       "      <td>2</td>\n",
       "      <td>2.0</td>\n",
       "      <td>1</td>\n",
       "      <td>1</td>\n",
       "      <td>1</td>\n",
       "      <td>0</td>\n",
       "      <td>0</td>\n",
       "      <td>0</td>\n",
       "      <td>...</td>\n",
       "      <td>0</td>\n",
       "      <td>0</td>\n",
       "      <td>0</td>\n",
       "      <td>0</td>\n",
       "      <td>0</td>\n",
       "      <td>0</td>\n",
       "      <td>0</td>\n",
       "      <td>0</td>\n",
       "      <td>0</td>\n",
       "      <td>0</td>\n",
       "    </tr>\n",
       "    <tr>\n",
       "      <th>2</th>\n",
       "      <td>750</td>\n",
       "      <td>763</td>\n",
       "      <td>2</td>\n",
       "      <td>2.0</td>\n",
       "      <td>1</td>\n",
       "      <td>1</td>\n",
       "      <td>1</td>\n",
       "      <td>0</td>\n",
       "      <td>0</td>\n",
       "      <td>0</td>\n",
       "      <td>...</td>\n",
       "      <td>0</td>\n",
       "      <td>0</td>\n",
       "      <td>0</td>\n",
       "      <td>0</td>\n",
       "      <td>0</td>\n",
       "      <td>0</td>\n",
       "      <td>0</td>\n",
       "      <td>0</td>\n",
       "      <td>0</td>\n",
       "      <td>0</td>\n",
       "    </tr>\n",
       "    <tr>\n",
       "      <th>3</th>\n",
       "      <td>1000</td>\n",
       "      <td>800</td>\n",
       "      <td>1</td>\n",
       "      <td>0.0</td>\n",
       "      <td>0</td>\n",
       "      <td>1</td>\n",
       "      <td>1</td>\n",
       "      <td>0</td>\n",
       "      <td>0</td>\n",
       "      <td>0</td>\n",
       "      <td>...</td>\n",
       "      <td>0</td>\n",
       "      <td>0</td>\n",
       "      <td>0</td>\n",
       "      <td>0</td>\n",
       "      <td>0</td>\n",
       "      <td>0</td>\n",
       "      <td>0</td>\n",
       "      <td>0</td>\n",
       "      <td>0</td>\n",
       "      <td>0</td>\n",
       "    </tr>\n",
       "    <tr>\n",
       "      <th>4</th>\n",
       "      <td>530</td>\n",
       "      <td>641</td>\n",
       "      <td>1</td>\n",
       "      <td>1.0</td>\n",
       "      <td>1</td>\n",
       "      <td>1</td>\n",
       "      <td>1</td>\n",
       "      <td>0</td>\n",
       "      <td>0</td>\n",
       "      <td>0</td>\n",
       "      <td>...</td>\n",
       "      <td>0</td>\n",
       "      <td>0</td>\n",
       "      <td>0</td>\n",
       "      <td>0</td>\n",
       "      <td>0</td>\n",
       "      <td>0</td>\n",
       "      <td>0</td>\n",
       "      <td>0</td>\n",
       "      <td>0</td>\n",
       "      <td>0</td>\n",
       "    </tr>\n",
       "  </tbody>\n",
       "</table>\n",
       "<p>5 rows × 83 columns</p>\n",
       "</div>"
      ],
      "text/plain": [
       "   price  sqfeet  beds  baths  cats_allowed  dogs_allowed  smoking_allowed  \\\n",
       "0    799     954     2    2.0             1             1                1   \n",
       "1   1005    1117     2    2.0             1             1                1   \n",
       "2    750     763     2    2.0             1             1                1   \n",
       "3   1000     800     1    0.0             0             1                1   \n",
       "4    530     641     1    1.0             1             1                1   \n",
       "\n",
       "   wheelchair_access  electric_vehicle_charge  comes_furnished  ...  \\\n",
       "0                  0                        0                0  ...   \n",
       "1                  0                        0                0  ...   \n",
       "2                  0                        0                0  ...   \n",
       "3                  0                        0                0  ...   \n",
       "4                  0                        0                0  ...   \n",
       "\n",
       "   housing_type_condo  housing_type_cottage/cabin  housing_type_duplex  \\\n",
       "0                   0                           0                    0   \n",
       "1                   0                           0                    0   \n",
       "2                   0                           0                    0   \n",
       "3                   0                           0                    0   \n",
       "4                   0                           0                    0   \n",
       "\n",
       "   housing_type_flat  housing_type_house  housing_type_in-law  \\\n",
       "0                  0                   0                    0   \n",
       "1                  0                   0                    0   \n",
       "2                  0                   0                    0   \n",
       "3                  0                   0                    0   \n",
       "4                  0                   0                    0   \n",
       "\n",
       "   housing_type_land  housing_type_loft  housing_type_manufactured  \\\n",
       "0                  0                  0                          0   \n",
       "1                  0                  0                          0   \n",
       "2                  0                  0                          0   \n",
       "3                  0                  0                          0   \n",
       "4                  0                  0                          0   \n",
       "\n",
       "   housing_type_townhouse  \n",
       "0                       0  \n",
       "1                       0  \n",
       "2                       0  \n",
       "3                       0  \n",
       "4                       0  \n",
       "\n",
       "[5 rows x 83 columns]"
      ]
     },
     "execution_count": 147,
     "metadata": {},
     "output_type": "execute_result"
    }
   ],
   "source": [
    "encoded_df = pd.get_dummies(df, drop_first=True)\n",
    "encoded_df.head()"
   ]
  },
  {
   "cell_type": "markdown",
   "metadata": {},
   "source": [
    "Split the target variable (price) and predictors for modeling"
   ]
  },
  {
   "cell_type": "code",
   "execution_count": 149,
   "metadata": {},
   "outputs": [],
   "source": [
    "encoded_X = encoded_df.drop('price', axis=1)\n",
    "encoded_y = encoded_df[\"price\"]"
   ]
  },
  {
   "cell_type": "markdown",
   "metadata": {},
   "source": [
    "After splitting the data, running some linear models with cross validation and with RMSE and R2 as metrics"
   ]
  },
  {
   "cell_type": "code",
   "execution_count": 150,
   "metadata": {},
   "outputs": [
    {
     "name": "stdout",
     "output_type": "stream",
     "text": [
      "RMSE: 407.19 Adjusted_R2: 0.43\n"
     ]
    }
   ],
   "source": [
    "linear = LinearRegression()\n",
    "scores = cross_validate(linear, encoded_X, encoded_y, cv=5, scoring=['neg_mean_squared_error','r2'])\n",
    "rmse = np.sqrt(np.absolute(np.mean(scores['test_neg_mean_squared_error'])))\n",
    "r2 = np.mean(scores['test_r2'])\n",
    "print(f\"RMSE: {rmse:.2f} Adjusted_R2: {r2:.2f}\")"
   ]
  },
  {
   "cell_type": "code",
   "execution_count": 151,
   "metadata": {},
   "outputs": [
    {
     "data": {
      "text/html": [
       "<div>\n",
       "<style scoped>\n",
       "    .dataframe tbody tr th:only-of-type {\n",
       "        vertical-align: middle;\n",
       "    }\n",
       "\n",
       "    .dataframe tbody tr th {\n",
       "        vertical-align: top;\n",
       "    }\n",
       "\n",
       "    .dataframe thead th {\n",
       "        text-align: right;\n",
       "    }\n",
       "</style>\n",
       "<table border=\"1\" class=\"dataframe\">\n",
       "  <thead>\n",
       "    <tr style=\"text-align: right;\">\n",
       "      <th></th>\n",
       "      <th>0</th>\n",
       "      <th>Coefs</th>\n",
       "    </tr>\n",
       "  </thead>\n",
       "  <tbody>\n",
       "    <tr>\n",
       "      <th>0</th>\n",
       "      <td>sqfeet</td>\n",
       "      <td>0.000061</td>\n",
       "    </tr>\n",
       "    <tr>\n",
       "      <th>1</th>\n",
       "      <td>beds</td>\n",
       "      <td>-7.133584</td>\n",
       "    </tr>\n",
       "    <tr>\n",
       "      <th>2</th>\n",
       "      <td>baths</td>\n",
       "      <td>203.734884</td>\n",
       "    </tr>\n",
       "    <tr>\n",
       "      <th>3</th>\n",
       "      <td>cats_allowed</td>\n",
       "      <td>-28.889511</td>\n",
       "    </tr>\n",
       "    <tr>\n",
       "      <th>4</th>\n",
       "      <td>dogs_allowed</td>\n",
       "      <td>24.309912</td>\n",
       "    </tr>\n",
       "    <tr>\n",
       "      <th>...</th>\n",
       "      <td>...</td>\n",
       "      <td>...</td>\n",
       "    </tr>\n",
       "    <tr>\n",
       "      <th>77</th>\n",
       "      <td>housing_type_in-law</td>\n",
       "      <td>-111.208605</td>\n",
       "    </tr>\n",
       "    <tr>\n",
       "      <th>78</th>\n",
       "      <td>housing_type_land</td>\n",
       "      <td>-427.801153</td>\n",
       "    </tr>\n",
       "    <tr>\n",
       "      <th>79</th>\n",
       "      <td>housing_type_loft</td>\n",
       "      <td>125.240024</td>\n",
       "    </tr>\n",
       "    <tr>\n",
       "      <th>80</th>\n",
       "      <td>housing_type_manufactured</td>\n",
       "      <td>-152.538047</td>\n",
       "    </tr>\n",
       "    <tr>\n",
       "      <th>81</th>\n",
       "      <td>housing_type_townhouse</td>\n",
       "      <td>-16.997842</td>\n",
       "    </tr>\n",
       "  </tbody>\n",
       "</table>\n",
       "<p>82 rows × 2 columns</p>\n",
       "</div>"
      ],
      "text/plain": [
       "                            0       Coefs\n",
       "0                      sqfeet    0.000061\n",
       "1                        beds   -7.133584\n",
       "2                       baths  203.734884\n",
       "3                cats_allowed  -28.889511\n",
       "4                dogs_allowed   24.309912\n",
       "..                        ...         ...\n",
       "77        housing_type_in-law -111.208605\n",
       "78          housing_type_land -427.801153\n",
       "79          housing_type_loft  125.240024\n",
       "80  housing_type_manufactured -152.538047\n",
       "81     housing_type_townhouse  -16.997842\n",
       "\n",
       "[82 rows x 2 columns]"
      ]
     },
     "execution_count": 151,
     "metadata": {},
     "output_type": "execute_result"
    }
   ],
   "source": [
    "linear.fit(encoded_X, encoded_y)\n",
    "coef_table = pd.DataFrame(list(encoded_X.columns)).copy()\n",
    "coef_table.insert(len(coef_table.columns),\"Coefs\",linear.coef_.transpose())\n",
    "coef_table"
   ]
  },
  {
   "cell_type": "code",
   "execution_count": 114,
   "metadata": {},
   "outputs": [
    {
     "name": "stdout",
     "output_type": "stream",
     "text": [
      "RMSE: 366.28 Adjusted_R2: 0.55\n"
     ]
    }
   ],
   "source": [
    "dtr = tree.DecisionTreeRegressor()\n",
    "scores = cross_validate(dtr, encoded_X, encoded_y, cv=5, scoring=['neg_mean_squared_error','r2'])\n",
    "rmse = np.sqrt(np.absolute(np.mean(scores['test_neg_mean_squared_error'])))\n",
    "r2 = np.mean(scores['test_r2'])\n",
    "print(f\"RMSE: {rmse:.2f} Adjusted_R2: {r2:.2f}\")"
   ]
  },
  {
   "cell_type": "code",
   "execution_count": 115,
   "metadata": {},
   "outputs": [
    {
     "name": "stdout",
     "output_type": "stream",
     "text": [
      "RMSE: 389.18 Adjusted_R2: 0.48\n"
     ]
    }
   ],
   "source": [
    "gbr = GradientBoostingRegressor()\n",
    "scores = cross_validate(gbr, encoded_X, encoded_y, cv=5, scoring=['neg_mean_squared_error','r2'])\n",
    "rmse = np.sqrt(np.absolute(np.mean(scores['test_neg_mean_squared_error'])))\n",
    "r2 = np.mean(scores['test_r2'])\n",
    "print(f\"RMSE: {rmse:.2f} Adjusted_R2: {r2:.2f}\")"
   ]
  },
  {
   "cell_type": "markdown",
   "metadata": {},
   "source": [
    "After running three models, the decision tree regressor performed better than the other models in terms of \"Root Mean Squared Error\" and \"Adjusted R2\". This metric is choosen for evaluation as the target variable is continuous and goal of the project is to predict the price range of the house given its property.  "
   ]
  },
  {
   "cell_type": "markdown",
   "metadata": {},
   "source": [
    "Plot a feature importance chart to find the factors that influence the rental price."
   ]
  },
  {
   "cell_type": "code",
   "execution_count": 101,
   "metadata": {},
   "outputs": [
    {
     "data": {
      "text/plain": [
       "<AxesSubplot:title={'center':'Feature Importance'}>"
      ]
     },
     "execution_count": 101,
     "metadata": {},
     "output_type": "execute_result"
    },
    {
     "data": {
      "image/png": "[encoded data removed]",
      "text/plain": [
       "<Figure size 432x288 with 1 Axes>"
      ]
     },
     "metadata": {
      "needs_background": "light"
     },
     "output_type": "display_data"
    }
   ],
   "source": [
    "dtr.fit(encoded_X, encoded_y)\n",
    "feature_importance = dtr.feature_importances_\n",
    "feat_importances = pd.Series(dtr.feature_importances_, index=encoded_X.columns)\n",
    "feat_importances.nlargest(10).plot(kind='barh', title=\"Feature Importance\")"
   ]
  },
  {
   "cell_type": "markdown",
   "metadata": {},
   "source": [
    "We could see certain features like sqfeet, number of beds, baths have significant influence in deciding the rental price of the house. We could also see some the names of the states like California, Masachussets and Hawaii which implies the rental price of houses are greatly affected by these places. "
   ]
  },
  {
   "cell_type": "markdown",
   "metadata": {},
   "source": [
    "Serilizaing and saving the model so it can be used for further inference later. "
   ]
  },
  {
   "cell_type": "code",
   "execution_count": null,
   "metadata": {},
   "outputs": [],
   "source": [
    "filename = 'prediction_model.sav'\n",
    "pickle.dump(dtr, open(filename, 'wb'))"
   ]
  }
 ],
 "metadata": {
  "interpreter": {
   "hash": "85f7d94ae525a214d58417044f3649651bfbb6d310f4aa0d18f70861e8e77d84"
  },
  "kernelspec": {
   "display_name": "Python 3.10.1 64-bit ('.venv': venv)",
   "language": "python",
   "name": "python3"
  },
  "language_info": {
   "codemirror_mode": {
    "name": "ipython",
    "version": 3
   },
   "file_extension": ".py",
   "mimetype": "text/x-python",
   "name": "python",
   "nbconvert_exporter": "python",
   "pygments_lexer": "ipython3",
   "version": "3.8.8"
  },
  "orig_nbformat": 4
 },
 "nbformat": 4,
 "nbformat_minor": 2
}
