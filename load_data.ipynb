{
 "cells": [
  {
   "cell_type": "markdown",
   "metadata": {},
   "source": [
    "Read the csv file from local directory"
   ]
  },
  {
   "cell_type": "code",
   "execution_count": null,
   "metadata": {},
   "outputs": [],
   "source": [
    "filename = \"data/housing.csv\"\n",
    "data = []\n",
    "f = open(filename,'r',encoding=\"utf8\")\n",
    "df = f.readlines()\n",
    "for line in df:\n",
    "    line1=line.split(',')\n",
    "    data.append(line1)\n",
    "header = data[0]\n",
    "values = data[1:]"
   ]
  },
  {
   "cell_type": "markdown",
   "metadata": {},
   "source": [
    "Create a database connection and write helper functions for it."
   ]
  },
  {
   "cell_type": "code",
   "execution_count": null,
   "metadata": {},
   "outputs": [],
   "source": [
    "import sqlite3\n",
    "from sqlite3 import Error\n",
    "\n",
    "def create_connection(db_file, delete_db=False):\n",
    "    import os\n",
    "    if delete_db and os.path.exists(db_file):\n",
    "        os.remove(db_file)\n",
    "\n",
    "    conn = None\n",
    "    try:\n",
    "        conn = sqlite3.connect(db_file)\n",
    "        conn.execute(\"PRAGMA foreign_keys = 1\")\n",
    "    except Error as e:\n",
    "        print(e)\n",
    "\n",
    "    return conn\n",
    "\n",
    "def create_table(conn, create_table_sql, drop_table_name=None):\n",
    "    if drop_table_name: # You can optionally pass drop_table_name to drop the table. \n",
    "        try:\n",
    "            c = conn.cursor()\n",
    "            c.execute(\"\"\"DROP TABLE IF EXISTS %s\"\"\" % (drop_table_name))\n",
    "        except Error as e:\n",
    "            print(e)\n",
    "    \n",
    "    try:\n",
    "        c = conn.cursor()\n",
    "        c.execute(create_table_sql)\n",
    "    except Error as e:\n",
    "        print(e)\n",
    "        \n",
    "def execute_sql_statement(sql_statement, conn):\n",
    "    cur = conn.cursor()\n",
    "    cur.execute(sql_statement)\n",
    "\n",
    "    rows = cur.fetchall()\n",
    "    return rows\n",
    "\n",
    "def insert_into_tables(conn, sql_insert_statement, values):\n",
    "    sql = \"\"\" INSERT INTO EMPLOYEES VALUES(?, ?, ?) \"\"\"\n",
    "    cur = conn.cursor()\n",
    "    cur.executemany(sql_insert_statement, values)\n",
    "    return cur.lastrowid\n",
    "\n",
    "conn = create_connection(\"database/USRent.db\")"
   ]
  },
  {
   "cell_type": "markdown",
   "metadata": {},
   "source": [
    "Create empty tables"
   ]
  },
  {
   "cell_type": "code",
   "execution_count": null,
   "metadata": {},
   "outputs": [],
   "source": [
    "housing_table = \"CREATE TABLE HousingList (listing_id INTEGER NOT NULL PRIMARY KEY REFERENCES MetaData(listing_id) , price INTEGER, sqfeet INTEGER, beds INTEGER, baths INTEGER, cats_allowed INTEGER, dogs_allowed INTEGER, smoking_allowed INTEGER, wheelchair_access INTEGER, electric_vehicle_charge INTEGER, comes_furnished INTEGER, location_id TEXT NOT NULL REFERENCES Location(location_id), laundry_id TEXT NOT NULL REFERENCES Laundry(laundry_id),housing_type_id TEXT NOT NULL REFERENCES HousingType(housing_type_id), parking_id TEXT NOT NULL REFERENCES Parking(parking_id))\"\n",
    "\n",
    "metadata_table = \"CREATE TABLE MetaData (listing_id INTEGER NOT NULL PRIMARY KEY, url TEXT, image_url TEXT)\"\n",
    "\n",
    "location_table = \"CREATE TABLE Location (location_id INTEGER NOT NULL PRIMARY KEY, region TEXT, state TEXT)\"\n",
    "\n",
    "laundry_table = \"CREATE TABLE Laundry (laundry_id INTEGER NOT NULL PRIMARY KEY, option_name TEXT)\"\n",
    "\n",
    "housingtype_table = \"CREATE TABLE HousingType (housing_type_id INTEGER NOT NULL PRIMARY KEY, housing_type TEXT)\"\n",
    "\n",
    "parking_table = \"CREATE TABLE Parking (parking_id INTEGER NOT NULL PRIMARY KEY, parking_type TEXT)\"\n",
    "\n",
    "with conn:\n",
    "    create_table(conn, housing_table, \"HousingList\")\n",
    "    create_table(conn, metadata_table, \"MetaData\")\n",
    "    create_table(conn, location_table, \"Location\")\n",
    "    create_table(conn, laundry_table, \"Laundry\")\n",
    "    create_table(conn, housingtype_table, \"HousingType\")\n",
    "    create_table(conn, parking_table, \"Parking\")\n"
   ]
  },
  {
   "cell_type": "markdown",
   "metadata": {},
   "source": [
    "Insert values into the laundry table"
   ]
  },
  {
   "cell_type": "code",
   "execution_count": null,
   "metadata": {},
   "outputs": [],
   "source": [
    "options = []\n",
    "for i in values:\n",
    "    try:\n",
    "        options.append(i[15])\n",
    "    except IndexError:\n",
    "        continue\n",
    "options = list(set(options))\n",
    "insert_laundry_table = \"Insert into Laundry(option_name) Values(?);\"\n",
    "\n",
    "with conn:\n",
    "    cur = conn.cursor()\n",
    "    cur.executemany(insert_laundry_table,[(option,) for option in options])\n",
    "\n",
    "sql_statement = \"select * from Laundry;\"\n",
    "execute_sql_statement(sql_statement, conn)"
   ]
  },
  {
   "cell_type": "markdown",
   "metadata": {},
   "source": [
    "Insert values into the housing type table"
   ]
  },
  {
   "cell_type": "code",
   "execution_count": null,
   "metadata": {},
   "outputs": [],
   "source": [
    "type = []\n",
    "for i in values:\n",
    "    try:\n",
    "        type.append(i[5])\n",
    "    except IndexError:\n",
    "        continue\n",
    "type = list(set(type))\n",
    "insert_type_table = \"Insert into HousingType(housing_type) Values(?);\"\n",
    "\n",
    "with conn:\n",
    "    cur = conn.cursor()\n",
    "    cur.executemany(insert_type_table,[(j,) for j in type])\n",
    "\n",
    "sql_statement = \"select * from HousingType;\"\n",
    "execute_sql_statement(sql_statement, conn)"
   ]
  },
  {
   "cell_type": "markdown",
   "metadata": {},
   "source": [
    "Insert values into the parking type table "
   ]
  },
  {
   "cell_type": "code",
   "execution_count": null,
   "metadata": {},
   "outputs": [],
   "source": [
    "parking = []\n",
    "for i in values:\n",
    "\n",
    "    try:\n",
    "        parking.append(i[16])\n",
    "    except IndexError:\n",
    "        continue\n",
    "parking = list(set(parking))\n",
    "insert_parking_table = \"Insert into Parking(parking_type) Values(?);\"\n",
    "\n",
    "with conn:\n",
    "    cur = conn.cursor()\n",
    "    cur.executemany(insert_parking_table,[(p,) for p in parking])\n",
    "\n",
    "\n",
    "sql_statement = \"select * from Parking;\"\n",
    "execute_sql_statement(sql_statement, conn)\n"
   ]
  },
  {
   "cell_type": "markdown",
   "metadata": {},
   "source": [
    "Insert values into the location table"
   ]
  },
  {
   "cell_type": "code",
   "execution_count": null,
   "metadata": {},
   "outputs": [],
   "source": [
    "location = []\n",
    "for i in values:\n",
    "    try:\n",
    "        a = i[20].strip()\n",
    "        location.append(i[2]+'*'+a)\n",
    "    except IndexError:\n",
    "        continue\n",
    "\n",
    "location = list(set(location))\n",
    "\n",
    "st=[]\n",
    "loc=[]\n",
    "for i in location:\n",
    "    a=i.split('*')\n",
    "    st.append(a[1])\n",
    "    loc.append(a[0])\n",
    "\n",
    "insert_location_table = \"Insert into Location(region,state) Values(?,?);\"\n",
    "\n",
    "with conn:\n",
    "    cur = conn.cursor()\n",
    "    cur.executemany(insert_location_table,[(l,s) for l,s in zip(loc,st)])\n",
    "\n",
    "#have to split and save region and state\n",
    "\n",
    "sql_statement = \"select * from Location;\"\n",
    "execute_sql_statement(sql_statement, conn)"
   ]
  },
  {
   "cell_type": "markdown",
   "metadata": {},
   "source": [
    "Insert values into the metadata table"
   ]
  },
  {
   "cell_type": "code",
   "execution_count": null,
   "metadata": {},
   "outputs": [],
   "source": [
    "url = []\n",
    "img_url=[]\n",
    "l_id = []\n",
    "for i in values:\n",
    "    try:\n",
    "        url.append(i[1])\n",
    "        img_url.append(i[17])\n",
    "        l_id.append(i[0])\n",
    "    except IndexError:\n",
    "        continue\n",
    "        \n",
    "insert_metadata_table = \"Insert into MetaData(listing_id,url,image_url) Values(?,?,?);\"\n",
    "\n",
    "with conn:\n",
    "    cur = conn.cursor()\n",
    "    cur.executemany(insert_metadata_table,[(i,j,k) for i,j,k in zip(l_id,url,img_url)])\n",
    "\n",
    "sql_statement = \"select * from MetaData;\"\n",
    "execute_sql_statement(sql_statement, conn)"
   ]
  },
  {
   "cell_type": "markdown",
   "metadata": {},
   "source": [
    "Helper function to map different parameter types to their associated id"
   ]
  },
  {
   "cell_type": "code",
   "execution_count": null,
   "metadata": {},
   "outputs": [],
   "source": [
    "def get_type(name,db_name):\n",
    "    sql_statement = f\"select * from {db_name}\"\n",
    "    with conn:\n",
    "        try:\n",
    "            c = execute_sql_statement(sql_statement, conn)\n",
    "            laundry_dict = {x[1]: x[0] for x in c}\n",
    "            print(laundry_dict)\n",
    "            return laundry_dict[name]\n",
    "        except KeyError:\n",
    "            return None\n"
   ]
  },
  {
   "cell_type": "code",
   "execution_count": null,
   "metadata": {},
   "outputs": [],
   "source": [
    "def get_location(name):\n",
    "    sql_statement = \"select location_id, region||state from Location\"\n",
    "    with conn:\n",
    "        try:\n",
    "            c = execute_sql_statement(sql_statement, conn)\n",
    "            location_dict = {x[1]: x[0] for x in c}\n",
    "            print(location_dict)\n",
    "            return location_dict[name]\n",
    "        except KeyError:\n",
    "            return None"
   ]
  },
  {
   "cell_type": "markdown",
   "metadata": {},
   "source": [
    "Insert data into the main housing list table "
   ]
  },
  {
   "cell_type": "code",
   "execution_count": null,
   "metadata": {},
   "outputs": [],
   "source": [
    "input_tup = []\n",
    "for i in values:\n",
    "    try:\n",
    "        l_id=i[0]\n",
    "        price=i[4]\n",
    "        sq_feet=i[6] \n",
    "        bed=i[7]\n",
    "        bath=i[8]\n",
    "        cats=i[9]\n",
    "        dogs=i[10]\n",
    "        smoking=i[11]\n",
    "        wchair=i[12]\n",
    "        e_charge=i[13]\n",
    "        furnished=i[14]\n",
    "        location = f\"{i[2]}{i[20]}\".replace('\\n',\"\")\n",
    "        loc = get_location(location)\n",
    "        h_type = get_type(i[5],\"HousingType\")\n",
    "        park_type = get_type(i[16],\"Parking\")\n",
    "        ldry = get_type(i[15],\"Laundry\")\n",
    "        insert_HousingList_table = \"Insert into HousingList(listing_id,price,sqfeet,beds,baths,cats_allowed,dogs_allowed,smoking_allowed,wheelchair_access, electric_vehicle_charge, comes_furnished, location_id, laundry_id,housing_type_id, parking_id) Values(?,?,?,?,?,?,?,?,?,?,?,?,?,?,?);\"\n",
    "        input_tup.append((l_id,price,sq_feet,bed,bath,cats,dogs,smoking,wchair,e_charge,furnished,loc,ldry,h_type,park_type))\n",
    "\n",
    "    except Error as e:\n",
    "        print(e)\n",
    "        continue\n",
    "        \n",
    "with conn:\n",
    "    cur = conn.cursor()\n",
    "    cur.executemany(insert_HousingList_table,input_tup)\n",
    "\n",
    "sql_statement = \"select count(*) from HousingList;\"\n",
    "execute_sql_statement(sql_statement, conn)"
   ]
  },
  {
   "cell_type": "code",
   "execution_count": null,
   "metadata": {},
   "outputs": [],
   "source": [
    "sql_statement = \"select count(*) from HousingList;\"\n",
    "execute_sql_statement(sql_statement, conn)"
   ]
  }
 ],
 "metadata": {
  "kernelspec": {
   "display_name": "Python 3",
   "language": "python",
   "name": "python3"
  },
  "language_info": {
   "codemirror_mode": {
    "name": "ipython",
    "version": 3
   },
   "file_extension": ".py",
   "mimetype": "text/x-python",
   "name": "python",
   "nbconvert_exporter": "python",
   "pygments_lexer": "ipython3",
   "version": "3.10.1"
  }
 },
 "nbformat": 4,
 "nbformat_minor": 4
}
